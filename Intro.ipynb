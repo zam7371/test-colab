{
  "nbformat": 4,
  "nbformat_minor": 0,
  "metadata": {
    "colab": {
      "name": "Intro.ipynb",
      "provenance": [],
      "authorship_tag": "ABX9TyPva8dhvC/Gp46LCPXxw8p+",
      "include_colab_link": true
    },
    "kernelspec": {
      "name": "python3",
      "display_name": "Python 3"
    }
  },
  "cells": [
    {
      "cell_type": "markdown",
      "metadata": {
        "id": "view-in-github",
        "colab_type": "text"
      },
      "source": [
        "<a href=\"https://colab.research.google.com/github/zam7371/test-colab/blob/master/Intro.ipynb\" target=\"_parent\"><img src=\"https://colab.research.google.com/assets/colab-badge.svg\" alt=\"Open In Colab\"/></a>"
      ]
    },
    {
      "cell_type": "code",
      "metadata": {
        "id": "VEh9s00Ny76R",
        "colab": {
          "base_uri": "https://localhost:8080/"
        },
        "outputId": "da5d9746-60b5-4f0c-cc0c-0b02625e78d0"
      },
      "source": [
        "print (\"Hello Mohd Hasnizam\")"
      ],
      "execution_count": 1,
      "outputs": [
        {
          "output_type": "stream",
          "text": [
            "Hello Mohd Hasnizam\n"
          ],
          "name": "stdout"
        }
      ]
    },
    {
      "cell_type": "code",
      "metadata": {
        "id": "wsuudEpx1DeD",
        "colab": {
          "base_uri": "https://localhost:8080/",
          "height": 34
        },
        "outputId": "76744cdf-3c9d-4403-89b3-3b87f0ecce4a"
      },
      "source": [
        "print (\"This is a test\")"
      ],
      "execution_count": null,
      "outputs": [
        {
          "output_type": "stream",
          "text": [
            "This is a test\n"
          ],
          "name": "stdout"
        }
      ]
    }
  ]
}